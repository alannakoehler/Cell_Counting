{
 "cells": [
  {
   "cell_type": "code",
   "execution_count": 11,
   "metadata": {},
   "outputs": [],
   "source": [
    "# Import necessary programs\n",
    "import pandas as pd\n",
    "import glob\n",
    "\n",
    "# Select all .csv files\n",
    "path = '/Users/akoehler/Desktop/Cell_Counting/Results/Per_Slide_CSVs' \n",
    "csv_files = glob.glob(path + \"/*.csv\")\n",
    "csv_files\n",
    "\n",
    "# Generate new list\n",
    "li = []\n",
    "\n",
    "# Loop over each .csv file and place in list\n",
    "for filename in csv_files:\n",
    "    df = pd.read_csv(filename, index_col = None, header = 0)\n",
    "    li.append(df)\n",
    "\n",
    "# Concatenate each list into a large dataframe\n",
    "all_data = pd.concat(li, axis = 0, ignore_index = True)\n",
    "all_data\n",
    "\n",
    "# Export to new .csv file\n",
    "export_csv = all_data.to_csv('/Users/akoehler/Desktop/Cell_Counting/Results/Master_Dataframe.csv', index = None, header=True)"
   ]
  },
  {
   "cell_type": "code",
   "execution_count": null,
   "metadata": {},
   "outputs": [],
   "source": []
  }
 ],
 "metadata": {
  "kernelspec": {
   "display_name": "Python 3",
   "language": "python",
   "name": "python3"
  },
  "language_info": {
   "codemirror_mode": {
    "name": "ipython",
    "version": 3
   },
   "file_extension": ".py",
   "mimetype": "text/x-python",
   "name": "python",
   "nbconvert_exporter": "python",
   "pygments_lexer": "ipython3",
   "version": "3.8.1"
  }
 },
 "nbformat": 4,
 "nbformat_minor": 2
}
